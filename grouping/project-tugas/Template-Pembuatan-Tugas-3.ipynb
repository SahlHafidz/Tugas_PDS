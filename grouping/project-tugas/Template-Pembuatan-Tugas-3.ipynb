{
 "cells": [
  {
   "cell_type": "markdown",
   "id": "46095336",
   "metadata": {},
   "source": [
    "# ATURAN PEMBUATAN TUGAS"
   ]
  },
  {
   "cell_type": "raw",
   "id": "50b32cfd",
   "metadata": {},
   "source": [
    "1. Tugas Dikerjakan Secara Berkelompok (1 kelompok wajib 3 orang), setiap anggota wajib mengumpulkan di LMS yang telah disediakan\n",
    "2. Ubah Nama Project Menjadi \n",
    "   perwakilanNim-Tugas3.ipynb\n",
    "3. Format Penamaan Anggota Kelompok\n",
    "   - nim-nama\n",
    "4. Tuliskan jawaban setelah pertanyaan (insert cell bellow)\n",
    "5. File yang dikumpulkan terdiri dari 3 bagian\n",
    "   a. file python\n",
    "   b. file dataset (no 7)\n",
    "   c. file dataset (no 13)\n",
    "6. masukan seluruh file kedalam folder dan kompres serta berikan nama perwakilanNim-Tugas3.zip"
   ]
  },
  {
   "cell_type": "markdown",
   "id": "7e520ee4",
   "metadata": {},
   "source": [
    "# Anggota Kelompok\n",
    "1. 10122411- SAHL HAFIDZ IRKHAMI\n",
    "2. ..................... - ..........................\n",
    "3. ..................... - .........................."
   ]
  },
  {
   "cell_type": "markdown",
   "id": "9c641b75",
   "metadata": {},
   "source": [
    "# Soal No 1"
   ]
  },
  {
   "cell_type": "markdown",
   "id": "fca43544",
   "metadata": {},
   "source": [
    "Apakah Yang Dimaksud dengan duplikat data pada bahasa pemrograman python"
   ]
  },
  {
   "cell_type": "markdown",
   "id": "f622064a",
   "metadata": {},
   "source": [
    "# Soal No 2"
   ]
  },
  {
   "cell_type": "raw",
   "id": "8df15649",
   "metadata": {},
   "source": [
    "Gunakanlah dataset Indian-Liver-Patient-Dataset-(ILPD).csv"
   ]
  },
  {
   "cell_type": "markdown",
   "id": "783a8c08",
   "metadata": {},
   "source": [
    "# Soal No 3"
   ]
  },
  {
   "cell_type": "raw",
   "id": "9cef517d",
   "metadata": {},
   "source": [
    "Tuliskan Script untuk mencari duplikat data pada dataset Indian-Liver-Patient-Dataset-(ILPD).csv dan tampilkan baris data yang sama"
   ]
  },
  {
   "cell_type": "markdown",
   "id": "110a07fe",
   "metadata": {},
   "source": [
    "# Soal No 4"
   ]
  },
  {
   "cell_type": "markdown",
   "id": "c3305c1c",
   "metadata": {},
   "source": [
    "Tuliskan Script untuk mencari duplikat data pada dataset Indian-Liver-Patient-Dataset-(ILPD).csv berdasarkan kolom 3\n",
    "(ex data : 0.7, 10.9, 7.3)"
   ]
  },
  {
   "cell_type": "markdown",
   "id": "b936423b",
   "metadata": {},
   "source": [
    "# Soal No 5"
   ]
  },
  {
   "cell_type": "raw",
   "id": "2dcf53a7",
   "metadata": {},
   "source": [
    "Tuliskan Script untuk mencari duplikat data pada dataset Indian-Liver-Patient-Dataset-(ILPD).csv dan hapus data yang sama tersebut"
   ]
  },
  {
   "cell_type": "markdown",
   "id": "1eb0558d",
   "metadata": {},
   "source": [
    "# Soal No 6"
   ]
  },
  {
   "cell_type": "raw",
   "id": "5c661e9e",
   "metadata": {},
   "source": [
    "Apakah yang dimaksud dengan Grouping Pada pemrograman data science"
   ]
  },
  {
   "cell_type": "markdown",
   "id": "f43ac2f6",
   "metadata": {},
   "source": [
    "# Soal No 7"
   ]
  },
  {
   "cell_type": "raw",
   "id": "50fcbb8b",
   "metadata": {},
   "source": [
    "Gunakanlah dan tampilkan dataset csv berdasarkan pengambilan data dari kaggle (wajib melampirkan ketika pengumpulan tugas)"
   ]
  },
  {
   "cell_type": "markdown",
   "id": "e6305f1f",
   "metadata": {},
   "source": [
    "# Soal No 8"
   ]
  },
  {
   "cell_type": "raw",
   "id": "54f60b93",
   "metadata": {},
   "source": [
    "Buatlah contoh Grouping semua kolom berdasarkan satu kolom tertentu"
   ]
  },
  {
   "cell_type": "markdown",
   "id": "e14a495c",
   "metadata": {},
   "source": [
    "# Soal No 9"
   ]
  },
  {
   "cell_type": "raw",
   "id": "ceef53b8",
   "metadata": {},
   "source": [
    "Buatlah contoh Grouping beberapa kolom berdasarkan satu kolom tertentu"
   ]
  },
  {
   "cell_type": "markdown",
   "id": "80e8871f",
   "metadata": {},
   "source": [
    "# Soal No 10"
   ]
  },
  {
   "cell_type": "raw",
   "id": "10699bb9",
   "metadata": {},
   "source": [
    "Buatlah Contoh Grouping berdasarkan dua kolom tertentu"
   ]
  },
  {
   "cell_type": "markdown",
   "id": "d5c5b583",
   "metadata": {},
   "source": [
    "# Soal No 11"
   ]
  },
  {
   "cell_type": "raw",
   "id": "340dac25",
   "metadata": {},
   "source": [
    "Buatlah Contoh Grouping beberapa kolom dengan kriteria max dan min"
   ]
  },
  {
   "cell_type": "markdown",
   "id": "02d1b8ec",
   "metadata": {},
   "source": [
    "# Soal No 12"
   ]
  },
  {
   "cell_type": "raw",
   "id": "9e81cba0",
   "metadata": {},
   "source": [
    "Buatlah Contoh Kasus untuk mencari nilai mahasiswa terbesar dengan ketentuan :\n",
    "1. data nilai mahasiswa diisi oleh user/pengguna\n",
    "2. tampilkan nilai mahasiswa terbesar dan terkecil berdasarkan point no 1"
   ]
  },
  {
   "cell_type": "markdown",
   "id": "aada300f",
   "metadata": {},
   "source": [
    "# Soal No 13"
   ]
  },
  {
   "cell_type": "raw",
   "id": "5fb554b3",
   "metadata": {},
   "source": [
    "Buatlah Contoh Kasus untuk menyimpan data scrapping html kedalam file csv"
   ]
  },
  {
   "cell_type": "markdown",
   "id": "725f8b74",
   "metadata": {},
   "source": [
    "# Soal No 14"
   ]
  },
  {
   "cell_type": "markdown",
   "id": "36b3f7ee",
   "metadata": {},
   "source": [
    "Berikut ini adalah data nilai mahasiswa\n",
    "Andi     70\n",
    "Rachel   80\n",
    "Udin     35\n",
    "\n",
    "Buatlah program untuk mencari nilai mahasiswa dengan ketentuan :\n",
    "1. Data Mahasiswa Dimasukan Dari User\n",
    "2. Data Nilai yang akan dicari dimasukan dari user\n",
    "3. Tampilkan data nilai"
   ]
  }
 ],
 "metadata": {
  "kernelspec": {
   "display_name": "Python 3 (ipykernel)",
   "language": "python",
   "name": "python3"
  },
  "language_info": {
   "codemirror_mode": {
    "name": "ipython",
    "version": 3
   },
   "file_extension": ".py",
   "mimetype": "text/x-python",
   "name": "python",
   "nbconvert_exporter": "python",
   "pygments_lexer": "ipython3",
   "version": "3.10.7"
  }
 },
 "nbformat": 4,
 "nbformat_minor": 5
}
