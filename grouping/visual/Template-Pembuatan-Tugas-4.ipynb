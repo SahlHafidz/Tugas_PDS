{
 "cells": [
  {
   "cell_type": "markdown",
   "id": "029b5b74",
   "metadata": {},
   "source": [
    "# ATURAN PEMBUATAN TUGAS"
   ]
  },
  {
   "cell_type": "markdown",
   "id": "754c70f2",
   "metadata": {},
   "source": [
    "1. Tugas Dikerjakan Secara Berkelompok (1 kelompok wajib 3 orang), setiap anggota wajib mengumpulkan di LMS yang telah disediakan\n",
    "2. Ubah Nama Project Menjadi \n",
    "   perwakilanNim-Tugas4.ipynb\n",
    "3. Format Penamaan Anggota Kelompok\n",
    "   - nim-nama\n",
    "4. Tuliskan jawaban setelah pertanyaan (insert cell bellow)\n",
    "5. File yang dikumpulkan terdiri dari 1 bagian\n",
    "   a. file python\n",
    "6. masukan seluruh file kedalam folder dan kompres serta berikan nama perwakilanNim-Tugas4.zip"
   ]
  },
  {
   "cell_type": "markdown",
   "id": "54ad1f99",
   "metadata": {},
   "source": [
    "# Anggota Kelompok\n",
    "1. ..................... - ..........................\n",
    "2. ..................... - ..........................\n",
    "3. ..................... - .........................."
   ]
  },
  {
   "cell_type": "markdown",
   "id": "7892e658",
   "metadata": {},
   "source": [
    "# Soal No 1"
   ]
  },
  {
   "cell_type": "markdown",
   "id": "d52824ee",
   "metadata": {},
   "source": [
    "Apakah yang dimaksud dengan Matplotlib pada bahasa pemrograman python"
   ]
  },
  {
   "cell_type": "markdown",
   "id": "743f8368",
   "metadata": {},
   "source": [
    "# Soal No 2"
   ]
  },
  {
   "cell_type": "markdown",
   "id": "08d65cdb",
   "metadata": {},
   "source": [
    "Tuliskan Script untuk menginstall library dari matplotlib"
   ]
  },
  {
   "cell_type": "markdown",
   "id": "2d1bcab1",
   "metadata": {},
   "source": [
    "# Soal No 3"
   ]
  },
  {
   "cell_type": "markdown",
   "id": "25391ee2",
   "metadata": {},
   "source": [
    "Berikut ini adalah data tugas mahasiswa untuk setiap pertemuan yang lulus.\n",
    "\n",
    "1. Pertemuan 1 : 65 Mahasiswa\n",
    "2. Pertemuan 2 : 30 Mahasiswa\n",
    "3. Pertemuan 3 : 43 Mahasiswa\n",
    "4. Pertemuan 4 : 49 Mahasiswa\n",
    "5. Pertemuan 5 : 20 Mahasiswa\n",
    "\n",
    "Buatlah layar keluaran menggunakan visualisasi PIE Chart, dengan ketentuan : \n",
    "1. Tampilkan Nama Pertemuan\n",
    "2. Tampilkan Prosentase"
   ]
  },
  {
   "cell_type": "markdown",
   "id": "70ec7602",
   "metadata": {},
   "source": [
    "# Soal No 4"
   ]
  },
  {
   "cell_type": "markdown",
   "id": "5834532d",
   "metadata": {},
   "source": [
    "Buatlah Layar Keluaran visualisasi PIE CHART Berdasarkan Data File Excel \"datamahasiswalulus\"\n",
    "\n",
    "Ketentuan : \n",
    "1. Pertemuan 1 Berwarna Merah\n",
    "2. Pertemuan 2 Berwarna Hijau\n",
    "3. Pertemuan 3 Berwarna kuning\n",
    "4. Pertemuan 4 Berwarna abu\n",
    "5. Pertemuan 5 Berwarna biru\n",
    "6. Pertemuan 6 Berwarna Merah Muda"
   ]
  },
  {
   "cell_type": "markdown",
   "id": "83342c85",
   "metadata": {},
   "source": [
    "# Soal No 5"
   ]
  },
  {
   "cell_type": "markdown",
   "id": "f302a810",
   "metadata": {},
   "source": [
    "Buatlah Layar Keluaran visualisasi Diagram Batang Berdasarkan Data File Excel \"datamahasiswalulus\""
   ]
  },
  {
   "cell_type": "markdown",
   "id": "22f17fc7",
   "metadata": {},
   "source": [
    "# Soal No 6"
   ]
  },
  {
   "cell_type": "markdown",
   "id": "26fe577b",
   "metadata": {},
   "source": [
    "Buatlah Layar Keluaran visualisasi Diagram Garis Berdasarkan Data File Excel \"datamahasiswalulus\""
   ]
  },
  {
   "cell_type": "markdown",
   "id": "06be9881",
   "metadata": {},
   "source": [
    "# Soal No 7"
   ]
  },
  {
   "cell_type": "markdown",
   "id": "c33dab5b",
   "metadata": {},
   "source": [
    "Apakah yang dimaksud dengan Scatter Plot dan Histogram Pada Bahasa Pemrograman Python"
   ]
  },
  {
   "cell_type": "markdown",
   "id": "2601de10",
   "metadata": {},
   "source": [
    "Scatter Plot adalah ............................"
   ]
  },
  {
   "cell_type": "raw",
   "id": "8b75b29f",
   "metadata": {},
   "source": [
    "Histogram adalah .............................."
   ]
  },
  {
   "cell_type": "markdown",
   "id": "9cdc2f53",
   "metadata": {},
   "source": [
    "# Soal No 8"
   ]
  },
  {
   "cell_type": "markdown",
   "id": "312d3ffc",
   "metadata": {},
   "source": [
    "Buatlah contoh kasus dari penggunaan scatter plot"
   ]
  },
  {
   "cell_type": "raw",
   "id": "976bc211",
   "metadata": {},
   "source": [
    "Jawab"
   ]
  },
  {
   "cell_type": "raw",
   "id": "e3b65352",
   "metadata": {},
   "source": [
    "Buatlah contoh kasus dari penggunaan histogram"
   ]
  },
  {
   "cell_type": "markdown",
   "id": "e045568c",
   "metadata": {},
   "source": [
    "Jawab"
   ]
  }
 ],
 "metadata": {
  "kernelspec": {
   "display_name": "Python 3 (ipykernel)",
   "language": "python",
   "name": "python3"
  },
  "language_info": {
   "codemirror_mode": {
    "name": "ipython",
    "version": 3
   },
   "file_extension": ".py",
   "mimetype": "text/x-python",
   "name": "python",
   "nbconvert_exporter": "python",
   "pygments_lexer": "ipython3",
   "version": "3.10.7"
  }
 },
 "nbformat": 4,
 "nbformat_minor": 5
}
